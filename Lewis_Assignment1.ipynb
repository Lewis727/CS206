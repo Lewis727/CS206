{
  "nbformat": 4,
  "nbformat_minor": 0,
  "metadata": {
    "colab": {
      "name": "Lewis Assignment1.ipynb",
      "provenance": [],
      "collapsed_sections": [],
      "authorship_tag": "ABX9TyPGRMZJ/WIC2MkZW4mMBlmG",
      "include_colab_link": true
    },
    "kernelspec": {
      "name": "python3",
      "display_name": "Python 3"
    },
    "language_info": {
      "name": "python"
    }
  },
  "cells": [
    {
      "cell_type": "markdown",
      "metadata": {
        "id": "view-in-github",
        "colab_type": "text"
      },
      "source": [
        "<a href=\"https://colab.research.google.com/github/Lewis727/CS206/blob/main/Lewis_Assignment1.ipynb\" target=\"_parent\"><img src=\"https://colab.research.google.com/assets/colab-badge.svg\" alt=\"Open In Colab\"/></a>"
      ]
    },
    {
      "cell_type": "markdown",
      "source": [
        "Below is a notebook version of Mendes (2019) written in Markdown and Python for learning purposes.\n",
        "<br>**References**:\n",
        "<br>Mendes, Rodolfo. 2019. “Gym Tutorial: The Frozen Lake.” Reinforcement Learning for Fun. June 16, 2019. https://reinforcement-learning4.fun/2019/06/16/gym-tutorial-frozen-lake/. "
      ],
      "metadata": {
        "id": "QG5dMNpTehvG"
      }
    },
    {
      "cell_type": "markdown",
      "source": [
        "*Images and captions in this notebook are centered. Due to display issues in Github, please view Colab to view original formatting.*"
      ],
      "metadata": {
        "id": "TP4d7sHUhBGp"
      }
    },
    {
      "cell_type": "markdown",
      "source": [
        "# Gym Tutorial: The Frozen Lake\n"
      ],
      "metadata": {
        "id": "cHT0IctLA45u"
      }
    },
    {
      "cell_type": "markdown",
      "source": [
        "In this article, we are going to learn how to create and explore the Frozen Lake environment using the [Gym library](https://gym.openai.com/), an open source project created by [OpenAI](https://openai.com/) used for reinforcement learning experiments. The Gym library defines a uniform interface for environments what makes the integration between algorithms and environment easier for developers. Among many ready-to-use environments, the default installation includes a text-mode version of the Frozen Lake game, used as example in our last post.\n",
        "\n"
      ],
      "metadata": {
        "id": "pQDm5EuPBf2d"
      }
    },
    {
      "cell_type": "markdown",
      "source": [
        "## The Frozen Lake Environment"
      ],
      "metadata": {
        "id": "8UlMWmI7Bh8i"
      }
    },
    {
      "cell_type": "markdown",
      "source": [
        "The first step to create the game is to import the Gym library and create the environment. The code below shows how to do it:\n",
        "\n"
      ],
      "metadata": {
        "id": "4kK863p9BmE6"
      }
    },
    {
      "cell_type": "code",
      "execution_count": null,
      "metadata": {
        "colab": {
          "base_uri": "https://localhost:8080/"
        },
        "id": "gkcd1nllAQsy",
        "outputId": "c6ed97c3-619d-40bc-f39a-da029c1f2aed"
      },
      "outputs": [
        {
          "output_type": "stream",
          "name": "stdout",
          "text": [
            "\n",
            "\u001b[41mS\u001b[0mFFF\n",
            "FHFH\n",
            "FFFH\n",
            "HFFG\n"
          ]
        }
      ],
      "source": [
        "# frozen-lake-ex1.py\n",
        "import gym # loading the Gym library\n",
        " \n",
        "env = gym.make(\"FrozenLake-v0\")\n",
        "env.reset()                    \n",
        "env.render()"
      ]
    },
    {
      "cell_type": "markdown",
      "source": [
        "The first instruction imports Gym objects to our current namespace. The next line calls the method *gym.make()* to create the Frozen Lake environment and then we call the method *env.reset()* to put it on its initial state. Finally, we call the method env.render() to print its state:\n",
        "<p align=\"center\">\n",
        "  <img src=\"https://launchyourintelligentapphome.files.wordpress.com/2019/06/screen-shot-2019-06-14-at-23.20.33.png\" />\n",
        "</p>\n",
        "<br><i><center>Output of the the method env.render()"
      ],
      "metadata": {
        "id": "fHI1ip0bBqvk"
      }
    },
    {
      "cell_type": "markdown",
      "source": [
        "So, the same grid we saw in the [previous post](https://reinforcement-learning4.fun/2019/06/09/introduction-reinforcement-learning-frozen-lake-example/) now is represented by a matrix of characters. Their meaning is as follows:\n",
        "\n",
        "* <b>S</b>: initial state\n",
        "* <b>F</b>: frozen lake\n",
        "* <b>H</b>: hole\n",
        "* <b>G</b>: the goal\n",
        "* <b>Red square</b>: indicates the current position of the player\n"
      ],
      "metadata": {
        "id": "rSzMUSy6BvL7"
      }
    },
    {
      "cell_type": "markdown",
      "source": [
        "Also, we can inspect the possible actions to perform in the environment, as well as the possible states of the game:\n"
      ],
      "metadata": {
        "id": "-jAlPWCwak7u"
      }
    },
    {
      "cell_type": "code",
      "source": [
        "# frozen-lake-ex1.py\n",
        " \n",
        "print(\"Action space: \", env.action_space)\n",
        "print(\"Observation space: \", env.observation_space)"
      ],
      "metadata": {
        "colab": {
          "base_uri": "https://localhost:8080/"
        },
        "id": "2LcuSnclacA_",
        "outputId": "29803509-1540-44d9-9f5e-c459c89fab08"
      },
      "execution_count": null,
      "outputs": [
        {
          "output_type": "stream",
          "name": "stdout",
          "text": [
            "Action space:  Discrete(4)\n",
            "Observation space:  Discrete(16)\n"
          ]
        }
      ]
    },
    {
      "cell_type": "markdown",
      "source": [
        "In the code above, we print on the console the field *action_space* and the field *observation_space*. The returned objects are of the type *Discrete*, which describes a discrete space of size n. For example, the *action_space* for the Frozen Lake environment is a discrete space of 4 values, which means that the possible values for this space are 0 (zero), 1, 2 and 3. Yet, the *observation_space* is a discrete space of 16 values, which goes from 0 to 15. Besides, these objects offer some utility methods, like the *sample()* method which returns a random value from the space. With this method, we can easily create a dummy agent that plays the game randomly:"
      ],
      "metadata": {
        "id": "euoxeRNdaqtv"
      }
    },
    {
      "cell_type": "code",
      "source": [
        "# frozen-lake-ex2.py\n",
        "import gym\n",
        " \n",
        "MAX_ITERATIONS = 10\n",
        " \n",
        "env = gym.make(\"FrozenLake-v0\")\n",
        "env.reset()\n",
        "env.render()\n",
        "for i in range(MAX_ITERATIONS):\n",
        "    random_action = env.action_space.sample()\n",
        "    new_state, reward, done, info = env.step(\n",
        "       random_action)\n",
        "    env.render()\n",
        "    if done:\n",
        "        break"
      ],
      "metadata": {
        "colab": {
          "base_uri": "https://localhost:8080/"
        },
        "id": "MynGc-qHaocs",
        "outputId": "6d5dd7af-2755-4c06-d9d8-ca2196c40302"
      },
      "execution_count": null,
      "outputs": [
        {
          "output_type": "stream",
          "name": "stdout",
          "text": [
            "\n",
            "\u001b[41mS\u001b[0mFFF\n",
            "FHFH\n",
            "FFFH\n",
            "HFFG\n",
            "  (Right)\n",
            "SFFF\n",
            "\u001b[41mF\u001b[0mHFH\n",
            "FFFH\n",
            "HFFG\n",
            "  (Left)\n",
            "SFFF\n",
            "FHFH\n",
            "\u001b[41mF\u001b[0mFFH\n",
            "HFFG\n",
            "  (Left)\n",
            "SFFF\n",
            "FHFH\n",
            "FFFH\n",
            "\u001b[41mH\u001b[0mFFG\n"
          ]
        }
      ]
    },
    {
      "cell_type": "markdown",
      "source": [
        "The code above executes the game for a maximum of 10 iterations using the method *sample()* from the *action_space* object to select a random action. Then the *env.step()* method takes the action as input, executes the action on the environment and returns a tuple of four values:\n",
        "\n",
        "* <b>new_state</b>: the new state of the environment\n",
        "* <b>reward</b>: the reward\n",
        "* <b>done</b>: a boolean flag indicating if the returned state is a terminal state\n",
        "* <b>info</b>: an object with additional information for debugging purposes"
      ],
      "metadata": {
        "id": "UapfIcphaxi_"
      }
    },
    {
      "cell_type": "markdown",
      "source": [
        "Finally, we use the method *env.render()* to print the grid on the console and use the returned “done” flag to break the loop. Notice that the selected action is printed together with the grid:\n",
        "\n"
      ],
      "metadata": {
        "id": "B94dDN4Za6YS"
      }
    },
    {
      "cell_type": "markdown",
      "source": [
        "## Stochastic vs Deterministic\n"
      ],
      "metadata": {
        "id": "fK_Ozqywa9WT"
      }
    },
    {
      "cell_type": "markdown",
      "source": [
        "Note in the previous output the cases in which the player moves in a different direction than the one chosen by the agent. This behavior is completely normal in the Frozen Lake environment because it simulates a slippery surface. Also, this behavior represents an important characteristic of real-world environments: the transitions from one state to another, for a given action, are probabilistic. For example, if we shoot a bow and arrow there’s a chance to hit the target as well as to miss it. The distribution between these two possibilities will depend on our skill and other factors, like the direction of the wind, for example. Due to this probabilistic nature, the final result of a state transition does not depend entirely on the taken action.\n",
        "\n",
        "<br>By default, the Frozen Lake environment provided in Gym has probabilistic transitions between states. In other words, even when our agent chooses to move in one direction, the environment can execute a movement in another direction:"
      ],
      "metadata": {
        "id": "O4fCvHM5bAmK"
      }
    },
    {
      "cell_type": "code",
      "source": [
        "# frozen-lake-ex3.py\n",
        "import gym\n",
        " \n",
        "actions = {\n",
        "    'Left': 0,\n",
        "    'Down': 1,\n",
        "    'Right': 2, \n",
        "    'Up': 3\n",
        "}\n",
        " \n",
        "print('---- winning sequence ------ ')\n",
        "winning_sequence = (2 * ['Right']) + (3 * ['Down'])\n",
        "    + ['Right']\n",
        "print(winning_sequence)\n",
        " \n",
        "env = gym.make(\"FrozenLake-v0\")\n",
        "env.reset()\n",
        "env.render()\n",
        " \n",
        "for a in winning_sequence:\n",
        "    new_state, reward, done, info = env.step(actions[a])\n",
        "    print()\n",
        "    env.render()\n",
        "    print(\"Reward: {:.2f}\".format(reward))\n",
        "    print(info)\n",
        "    if done:\n",
        "        break  \n",
        " \n",
        "print()"
      ],
      "metadata": {
        "id": "JzJuZObpaudr"
      },
      "execution_count": null,
      "outputs": []
    },
    {
      "cell_type": "markdown",
      "source": [
        "Executing the code above, we can observe different results and paths at each execution. Also, using the info object returned by the step method we can inspect the probability used by the environment to choose the executed movement:\n",
        "\n",
        "<p align=\"center\">\n",
        "  <img src=\"https://launchyourintelligentapphome.files.wordpress.com/2019/06/screen-shot-2019-06-16-at-17.09.04.png?w=404&h=404\" />\n",
        "</p>\n",
        "<br><center><i>The character moved in directions other than the selected one, with probability of 0.3333…\n"
      ],
      "metadata": {
        "id": "MUcoIpXLbFsr"
      }
    },
    {
      "cell_type": "markdown",
      "source": [
        "However, the Frozen Lake environment can also be used in deterministic mode. By setting the property *is_slippery=False* when creating the environment, the slippery surface is turned off and then the environment always executes the action chosen by the agent:\n",
        "\n"
      ],
      "metadata": {
        "id": "RQSWdl90bWD3"
      }
    },
    {
      "cell_type": "code",
      "source": [
        "# frozen-lake-ex4.py\n",
        "env = gym.make(\"FrozenLake-v0\", is_slippery=False)"
      ],
      "metadata": {
        "id": "sEOliaShbIjq"
      },
      "execution_count": null,
      "outputs": []
    },
    {
      "cell_type": "markdown",
      "source": [
        "Observe that the probabilities returned in the info object is always equals to 1.0.\n",
        "\n",
        "<p align=\"center\">\n",
        "  <img src=\"https://launchyourintelligentapphome.files.wordpress.com/2019/06/screen-shot-2019-06-16-at-17.16.35.png?w=289&h=587\" />\n",
        "</p>\n",
        "<br><center><i>In deterministic mode, the agent always move in the selected direction\n"
      ],
      "metadata": {
        "id": "RrDD_6e9bY-t"
      }
    },
    {
      "cell_type": "markdown",
      "source": [
        "## Map sizes and custom maps"
      ],
      "metadata": {
        "id": "59wEZaZgbm4X"
      }
    },
    {
      "cell_type": "markdown",
      "source": [
        "The default 4×4 map is not the only option to play the Frozen Lake game. Also, there’s an 8×8 version that we can create in two different ways. The first one is to use the specific environment id for the 8×8 map:\n",
        "\n"
      ],
      "metadata": {
        "id": "o8nGAHzmbpj5"
      }
    },
    {
      "cell_type": "code",
      "source": [
        "# frozen-lake-ex5.py\n",
        "env = gym.make(\"FrozenLake8x8-v0\")\n",
        "env.reset()\n",
        "env.render()"
      ],
      "metadata": {
        "colab": {
          "base_uri": "https://localhost:8080/"
        },
        "id": "seBrN17gbpZf",
        "outputId": "ac59a5fb-0f24-4ff6-be89-02cb7fc820f0"
      },
      "execution_count": null,
      "outputs": [
        {
          "output_type": "stream",
          "name": "stdout",
          "text": [
            "\n",
            "\u001b[41mS\u001b[0mFFFFFFF\n",
            "FFFFFFFF\n",
            "FFFHFFFF\n",
            "FFFFFHFF\n",
            "FFFHFFFF\n",
            "FHHFFFHF\n",
            "FHFFHFHF\n",
            "FFFHFFFG\n"
          ]
        }
      ]
    },
    {
      "cell_type": "markdown",
      "source": [
        "The second option is to call the make method passing the value “8×8” as an argument to the map_name parameter:\n",
        "\n"
      ],
      "metadata": {
        "id": "5d4ShFkjbvRY"
      }
    },
    {
      "cell_type": "code",
      "source": [
        "# frozen-lake-ex5.py\n",
        "env = gym.make('FrozenLake-v0', map_name='8x8')\n",
        "env.reset()\n",
        "env.render()"
      ],
      "metadata": {
        "colab": {
          "base_uri": "https://localhost:8080/"
        },
        "id": "j_PWjvUjbIfL",
        "outputId": "9e26685d-9dff-442d-e638-31dbe6052460"
      },
      "execution_count": null,
      "outputs": [
        {
          "output_type": "stream",
          "name": "stdout",
          "text": [
            "\n",
            "\u001b[41mS\u001b[0mFFFFFFF\n",
            "FFFFFFFF\n",
            "FFFHFFFF\n",
            "FFFFFHFF\n",
            "FFFHFFFF\n",
            "FHHFFFHF\n",
            "FHFFHFHF\n",
            "FFFHFFFG\n"
          ]
        }
      ]
    },
    {
      "cell_type": "markdown",
      "source": [
        "And finally, we can create our custom map of the Frozen Lake game by passing an array of strings representing the map as an argument to the parameter desc:\n",
        "\n"
      ],
      "metadata": {
        "id": "9db0Tjcvbx2a"
      }
    },
    {
      "cell_type": "code",
      "source": [
        "custom_map = [\n",
        "    'SFFHF',\n",
        "    'HFHFF',\n",
        "    'HFFFH',\n",
        "    'HHHFH',\n",
        "    'HFFFG'\n",
        "]\n",
        " \n",
        "env = gym.make('FrozenLake-v0', desc=custom_map)\n",
        "env.reset()\n",
        "env.render()"
      ],
      "metadata": {
        "colab": {
          "base_uri": "https://localhost:8080/"
        },
        "id": "vLXzQ-asbFbQ",
        "outputId": "23e2a107-af0d-4b40-c0b2-52a361d39a3c"
      },
      "execution_count": null,
      "outputs": [
        {
          "output_type": "stream",
          "name": "stdout",
          "text": [
            "\n",
            "\u001b[41mS\u001b[0mFFHF\n",
            "HFHFF\n",
            "HFFFH\n",
            "HHHFH\n",
            "HFFFG\n"
          ]
        }
      ]
    },
    {
      "cell_type": "markdown",
      "source": [
        "## Conclusion"
      ],
      "metadata": {
        "id": "pkUSF0Nib0cC"
      }
    },
    {
      "cell_type": "markdown",
      "source": [
        "In this post, we learned how to use the Gym library to create an environment to train a reinforcement learning agent. We focused on the Frozen Lake environment, a text mode game with simple rules but that allows us to explore the fundamental concepts of reinforcement learning.\n",
        "\n"
      ],
      "metadata": {
        "id": "fy3UCoWsb3RC"
      }
    },
    {
      "cell_type": "markdown",
      "source": [
        "## References"
      ],
      "metadata": {
        "id": "zzzRxuseb5Tb"
      }
    },
    {
      "cell_type": "markdown",
      "source": [
        "A brief introduction to reinforcement learning concepts can be found at [How AI Learns to Play Games](https://reinforcement-learning4.fun/2019/06/03/how-ai-learns-play-games/). The Frozen Lake game rules and fundamental concepts of reinforcement learning can be found at [Introduction to Reinforcement Learning: the Frozen Lake Example](https://reinforcement-learning4.fun/2019/06/09/introduction-reinforcement-learning-frozen-lake-example/). Finally, you find instructions on how to install the Gym environment, check the post [How to Install Gym](https://reinforcement-learning4.fun/2019/05/24/how-to-install-openai-gym/).\n",
        "\n",
        "<br>Finally, the code examples for this post can be found at https://github.com/rodmsmendes/reinforcementlearning4fun/tree/master/gym-tutorial-frozen-lake."
      ],
      "metadata": {
        "id": "K099T4_ob8ES"
      }
    },
    {
      "cell_type": "markdown",
      "source": [
        "\n",
        "\n",
        "---\n",
        "# Reflection\n",
        "* Research Question (RQ) 1: How to experiment with the Frozen-AI environment in openAI gym by the dichotomy of environment and agents?  (2 points)\n",
        "* Research Question (RQ) 2: What are the general principles and references for lucid communication by professional markdowns and code formatting? (2 points)\n",
        "* Research Question (RQ) 3: How to tell stories using the Frozen-AI environment in openAI gym with lucid communication by professional markdowns and code formatting in Jupyter Notebook?  (2 points)"
      ],
      "metadata": {
        "id": "3INvgdRadc3p"
      }
    },
    {
      "cell_type": "markdown",
      "source": [
        "1.   We shall first understand the components present in the Frozen Lake environment. The environment is the frozen lake displayed as a grid map with each grid having a state (frozen, hole, goal). With different state, the agent may receive rewards or punishment as it makes a move. On the other hand, the agent receives observations as it interacts with the frozen lake environment, that is, making a move. With the dichotomy of environment and agent, we can experiment with the Froze Lake environment in the following ways. By the setting of this environment, the agent's action space must be discrete. But we can change the environment by adjusting the probability of \"slipping\" and observe how it affects the agent's behavior. We can also experiment RL algorithms, such as Q learning, SARSA, and TD3, etc. By changing adjusting the environment and the agent's learning strategy (algorithm), we can experiment with the Frozen Lake environment in openAI gym by the dichotomy of environment and agents.  \n",
        "2.   To write markdowns professsionally, it is very important to use headings to have a clear structure with different levels (e.g., heading 1, heading 2,etc.). Also, to leverage the advantage of writing markdowns over plain texts, it is common practice to utilize various formatting to enrich content. Adding reference hyperlinks, italicize or bold certain words, and adding images or bullet points are all effective ways to increase the readability of code and communicate core ideas to the reader. As for code formatting, writing comments and proper documentation are of crucial importance to let others know the functionality of a piece of code by explaining the meaning of functions, variables, and loops, etc.\n",
        "3. Writing this tutorial in Jupyter Notebook with markdowns and code formatting significantly increased the communication efficiency and interactivity, compared to plain text stories. First, by mixing code cells and markdowns, we are able to break down steps and explain code in vivid details. Second, a good story should be clearly structured. In the case of the *Frozen Lake Experiment*,  the author introduces the environment, stochastic vs. deterministic, maps, and conclusion. Third, the use of images and insertion of hyperlinks not only make this more visual but also give readers more references if they are interested. Moreover, the code comments make the code more understandable."
      ],
      "metadata": {
        "id": "oQtTyWotd-8P"
      }
    },
    {
      "cell_type": "code",
      "source": [
        ""
      ],
      "metadata": {
        "id": "NWUEzihfzed3"
      },
      "execution_count": null,
      "outputs": []
    }
  ]
}